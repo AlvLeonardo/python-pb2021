{
 "cells": [
  {
   "cell_type": "markdown",
   "metadata": {},
   "source": [
    "### **IMPORTAR BIBLIOTECAS**"
   ]
  },
  {
   "cell_type": "code",
   "execution_count": 1,
   "metadata": {},
   "outputs": [],
   "source": [
    "import numpy as np\n",
    "import matplotlib.pyplot as plt\n",
    "import matplotlib.cm as cm\n",
    "from PIL import Image\n",
    "import csv\n",
    "import pandas as pd\n",
    "from IPython.display import display as print_dataframe\n",
    "import plotly.graph_objects as go \n",
    "from IPython.core.display import HTML "
   ]
  },
  {
   "cell_type": "markdown",
   "metadata": {},
   "source": [
    "***"
   ]
  },
  {
   "cell_type": "markdown",
   "metadata": {},
   "source": [
    " # **Parte 1**"
   ]
  },
  {
   "cell_type": "markdown",
   "metadata": {},
   "source": [
    "***• EXERCÍCIO 1: Dado o array 2D abaixo, realize as seguintes operações:***  \n",
    "\n",
    "***1. A média das linhas 0, 2 e 3.***  \n",
    "\n",
    "***2. A média das colunas 0, 1 e 4.***  \n",
    "\n",
    "***3. A soma dos elementos das duas diagonais (utilizando indexação).***  \n",
    "\n",
    "***O seu código não deve conter nenhum tipo de loop (for/while)***"
   ]
  },
  {
   "cell_type": "code",
   "execution_count": 49,
   "metadata": {},
   "outputs": [
    {
     "name": "stdout",
     "output_type": "stream",
     "text": [
      "1. A média das linhas 0 / 2 / 3, respectivamente é: 2 / 7 / 12\n",
      "2. A média das colunas 0 / 1 / 4, respectivamente é: 10 / 11 / 14\n",
      "3. A soma dos elementos das duas diagonais é: 120\n"
     ]
    }
   ],
   "source": [
    "a = np.arange(25).reshape(5, 5)\n",
    "\n",
    "# Fazer a média das linhas\n",
    "media_lin=np.mean(a[0])\n",
    "media_lin1=np.mean(a[1])\n",
    "media_lin2=np.mean(a[2])\n",
    "\n",
    "print ('1. A média das linhas 0 / 2 / 3, respectivamente é:', int(media_lin),'/' , int(media_lin1),'/' , int(media_lin2))\n",
    "\n",
    "# Fazer a média das colunas\n",
    "media_col=np.mean(a[:, 0])\n",
    "media_col1=np.mean(a[:, 1])\n",
    "media_col4=np.mean(a[:, 4])\n",
    "\n",
    "print ('2. A média das colunas 0 / 1 / 4, respectivamente é:', int(media_col),'/' , int(media_col1),'/' , int(media_col4))\n",
    "\n",
    "# Fazer a soma da diagonal principal e secundária\n",
    "diagonal = np.trace(a)\n",
    "diagonal2 = np.trace(a, axis2=1) \n",
    "\n",
    "print('3. A soma dos elementos das duas diagonais é:', diagonal + diagonal2) "
   ]
  },
  {
   "cell_type": "markdown",
   "metadata": {},
   "source": [
    "***• EXERCÍCIO 2: Dado o array 2D abaixo, selecione os valores pares e todos os valores maiores que 10:***  "
   ]
  },
  {
   "cell_type": "code",
   "execution_count": 50,
   "metadata": {},
   "outputs": [
    {
     "name": "stdout",
     "output_type": "stream",
     "text": [
      "[10 12 14 16 18 20 22 24]\n"
     ]
    }
   ],
   "source": [
    "a = np.arange(25).reshape(5, 5) \n",
    "\n",
    "# Selecionar valores maiores que 10\n",
    "sel_dez = (a[2:5]) \n",
    "\n",
    "# Selecionar valores pares maiores que 10\n",
    "sel_par = (sel_dez[sel_dez % 2==0])\n",
    "\n",
    "print(sel_par)"
   ]
  },
  {
   "cell_type": "markdown",
   "metadata": {},
   "source": [
    "***• EXERCÍCIO 3: Dado o array 2D abaixo, substitua os 5 menores valores por -1.***  "
   ]
  },
  {
   "cell_type": "code",
   "execution_count": 99,
   "metadata": {},
   "outputs": [
    {
     "name": "stdout",
     "output_type": "stream",
     "text": [
      "[[-1 -1 -1 -1 -1]\n",
      " [11 12 14 15 19]\n",
      " [22 25 27 28 31]\n",
      " [37 37 37 38 38]\n",
      " [42 43 46 46 49]]\n"
     ]
    }
   ],
   "source": [
    "a = np.random.randint(0, 50, (5, 5))\n",
    "\n",
    "# Ordenar e tranformar o Array 2D para Flat\n",
    "x = (np.sort(a.flatten())[:25])\n",
    "\n",
    "# Selecionar os valores de 0-5 e transformalos em -1\n",
    "x[0:5] = -1\n",
    "\n",
    "x.resize(5,5)\n",
    "\n",
    "print(x)"
   ]
  },
  {
   "cell_type": "markdown",
   "metadata": {},
   "source": [
    "***• EXERCÍCIO 4: Calcule o número de pixels pretos contidos na imagem abaixo. Lembre-se, um pixel é considerado \"preto\" quando seu valor é zero nos 3 canais de cores ao mesmo tempo (e.g. image[0, 0, :] == 0 é verdadeiro se o pixel na posição [0, 0] for preto).***  "
   ]
  },
  {
   "cell_type": "code",
   "execution_count": 52,
   "metadata": {},
   "outputs": [
    {
     "data": {
      "image/png": "[encoded data removed]",
      "text/plain": [
       "<Figure size 432x288 with 1 Axes>"
      ]
     },
     "metadata": {
      "needs_background": "light"
     },
     "output_type": "display_data"
    },
    {
     "name": "stdout",
     "output_type": "stream",
     "text": [
      "O número de pixels pretos na image é: 261696\n"
     ]
    }
   ],
   "source": [
    "# Importar imagem\n",
    "image = np.array(Image.open('python_image.jpg'))\n",
    "plt.imshow(image)\n",
    "plt.show()\n",
    "\n",
    "# Contar pixels totais\n",
    "pixels = np.sum(np.sum(image, axis=2) == 0)\n",
    "\n",
    "# Contar pixels que não são pretos\n",
    "def contar_naopretos(image):\n",
    "    return image.any(axis=-1).sum()\n",
    "\n",
    "# Fazer a subtração dos pixels totais por não pretos\n",
    "pixels_pretos = pixels - contar_naopretos(image)\n",
    "\n",
    "print('O número de pixels pretos na image é:', pixels_pretos)"
   ]
  },
  {
   "cell_type": "markdown",
   "metadata": {},
   "source": [
    "***• EXERCÍCIO 5: Escreva uma função que retorne os índices dos k maiores valores de um array. Teste sua implementação.***  "
   ]
  },
  {
   "cell_type": "code",
   "execution_count": 105,
   "metadata": {},
   "outputs": [
    {
     "name": "stdout",
     "output_type": "stream",
     "text": [
      "Lista original: [0.38638049 0.74958704 0.92392737 0.9370544  0.60337315] \n",
      "-- -- --\n",
      "Indíce dos K maiores valores: [3 2]\n"
     ]
    }
   ],
   "source": [
    "# Criando um random array com 5 valores\n",
    "x = np.random.rand(5)\n",
    "\n",
    "# Definindo valor do output\n",
    "k = 2\n",
    "\n",
    "# Funcão de ordenação por índices\n",
    "def ind(x):\n",
    "    return np.argsort(x)\n",
    "\n",
    "# Funcão de ordenação do array por índices\n",
    "def max(x):\n",
    "    return x[ind(x)]\n",
    "\n",
    "# Invertendo os valores de índice para retornar os maiores valores, limitados por K\n",
    "maiores_valores = ind(x)[::-1][:k]\n",
    "\n",
    "print('Lista original:', x, '\\n' '-- -- --')\n",
    "\n",
    "print('Indíce dos K maiores valores:', maiores_valores) "
   ]
  },
  {
   "cell_type": "markdown",
   "metadata": {},
   "source": [
    "***• EXERCÍCIO 6: Leia o arquivo csv googleplaystore.csv e realize a seguinte atividade sobre o dataset:***  \n",
    "\n",
    "***1. Faça um gráfico de barras contendo os top 5 apps por número de instalação.***\n",
    "\n",
    "***2. Faça um gráfico de pizza (pie chart) mostrando as categorias de apps existentes no dataset de acordo com a frequência em que elas aparecem.***  \n",
    "\n",
    "***3. Mostre qual o app mais caro existente no dataset.***  \n",
    "\n",
    "***4. Mostre quantos apps são classificados como Mature 17+.***  \n",
    "\n",
    "***5. Mostre o top 10 apps por número de reviews bem como o respectivo número de reviews. Ordene a lista de forma decrescente por número de reviews.***\n",
    "\n",
    "App, Category, Rating, Reviews, Size, Installs, Type, Price, Content Rating, Genres,Last Updated, Current Ver, Android Ver\n"
   ]
  },
  {
   "cell_type": "code",
   "execution_count": 3,
   "metadata": {},
   "outputs": [
    {
     "data": {
      "text/plain": [
       "<BarContainer object of 5 artists>"
      ]
     },
     "execution_count": 3,
     "metadata": {},
     "output_type": "execute_result"
    },
    {
     "data": {
      "image/png": "[encoded data removed]",
      "text/plain": [
       "<Figure size 720x360 with 1 Axes>"
      ]
     },
     "metadata": {
      "needs_background": "light"
     },
     "output_type": "display_data"
    }
   ],
   "source": [
    "# 1. Faça um gráfico de barras contendo os top 5 apps por número de instalação.\n",
    "\n",
    "dataset={\n",
    "    'app' : [],\n",
    "    'installs' : [],}\n",
    "\n",
    "# Abrindo CSV, definindo a delimitação do arquivo por \",\"\n",
    "with open('googleplaystore.csv', 'r', encoding='utf8') as f:\n",
    "    arquivo_csv = csv.reader(f, delimiter= ',', quotechar='\"')\n",
    "    for i, row in enumerate(arquivo_csv):\n",
    "        if i == 0:\n",
    "            continue\n",
    "\n",
    "# Retirando strings indesejados e convertendo em inteiro\n",
    "        row[5] = row[5].replace('+','')\n",
    "        row[5] = row[5].replace(',','')\n",
    "        row[5] = row[5].replace('Free','0')\n",
    "        row[5] = (int(row[5]))\n",
    "\n",
    "# Definindo cada coluna\n",
    "        dataset['app'].append(row[0])\n",
    "        dataset['installs'].append(row[5])\n",
    "\n",
    "# Transformando em array\n",
    "for k in dataset.keys():\n",
    "    dataset[k] = np.array(dataset[k])\n",
    "\n",
    "# Definindo critério\n",
    "criterio = 'installs'\n",
    "\n",
    "# Ordenando critério por número de instalações\n",
    "top_5 = np.argsort(dataset[criterio])[::-1][:5]\n",
    "\n",
    "app = []\n",
    "installs = []\n",
    "\n",
    "# Conectando as linhas com seu respectivo index\n",
    "for i in top_5:\n",
    "    app.append(dataset['app'][i])\n",
    "    installs.append(dataset['installs'][i])\n",
    "\n",
    "plt.figure(figsize=(10,5))\n",
    "plt.barh(app, installs,  fill = False, edgecolor = 'Blue') "
   ]
  },
  {
   "cell_type": "code",
   "execution_count": 4,
   "metadata": {},
   "outputs": [
    {
     "data": {
      "image/png": "[encoded data removed]",
      "text/plain": [
       "<Figure size 432x288 with 1 Axes>"
      ]
     },
     "metadata": {},
     "output_type": "display_data"
    }
   ],
   "source": [
    "# 2. Faça um gráfico de pizza (pie chart) mostrando as categorias de apps existentes no dataset de acordo com a frequência em que elas aparecem.\n",
    "\n",
    "dataset={\n",
    "    'app' : [],\n",
    "    'category' : [],}\n",
    "\n",
    "# Abrindo CSV, definindo a delimitação do arquivo por \",\"\n",
    "with open('googleplaystore.csv', 'r', encoding='utf8') as f:\n",
    "    arquivo_csv = csv.reader(f, delimiter= ',', quotechar='\"')\n",
    "    for i, row in enumerate(arquivo_csv):\n",
    "        if i == 0:\n",
    "            continue \n",
    "\n",
    "# Definindo cada coluna\n",
    "        dataset['app'].append(row[0])\n",
    "        dataset['category'].append(row[1])\n",
    "\n",
    "for k in dataset.keys():\n",
    "    dataset[k] = np.array(dataset[k])\n",
    "\n",
    "# Definindo critério\n",
    "criterio = 'category'\n",
    "\n",
    "# Fazendo um sort_values por método dúvido do numpy\n",
    "unique, counts = np.unique(dataset[criterio], return_counts=True)\n",
    "\n",
    "# Criando dicionario que liga a colunas \"unique\" com o contador \"counts\"\n",
    "\n",
    "dicionario = dict(zip(unique, counts))\n",
    "\n",
    "labels = []\n",
    "sizes = []\n",
    "\n",
    "for x, y in dicionario.items():\n",
    "    labels.append(x)\n",
    "    sizes.append(y)\n",
    "\n",
    "# Plotando gráfico\n",
    "\n",
    "plt.pie(sizes, labels=labels, radius = 2, labeldistance = 1.05, counterclock = True, rotatelabels=True)\n",
    "plt.show()"
   ]
  },
  {
   "cell_type": "code",
   "execution_count": 28,
   "metadata": {},
   "outputs": [
    {
     "name": "stdout",
     "output_type": "stream",
     "text": [
      "Nome do app: [\"I'm Rich - Trump Edition\"] Preço do aplicativo: $ [400.0]\n"
     ]
    }
   ],
   "source": [
    "# 3. Mostre qual o app mais caro existente no dataset.\n",
    "\n",
    "dataset={\n",
    "    'app' : [],\n",
    "    'price' : [],}\n",
    "\n",
    "# Abrindo CSV, definindo a delimitação do arquivo por \",\"\n",
    "with open('googleplaystore.csv', 'r', encoding='utf8') as f:\n",
    "    arquivo_csv = csv.reader(f, delimiter= ',', quotechar='\"')\n",
    "    for i, row in enumerate(arquivo_csv):\n",
    "        if i == 0:\n",
    "            continue \n",
    "\n",
    "# Retirando strings indesejados e convertendo em float\n",
    "        row[7] = row[7].replace('$','')\n",
    "        row[7] = row[7].replace('Everyone','0')\n",
    "        row[7] = (float(row[7]))\n",
    "\n",
    "# Definindo cada coluna\n",
    "        dataset['app'].append(row[0])\n",
    "        dataset['price'].append(row[7])\n",
    "\n",
    "for k in dataset.keys():\n",
    "    dataset[k] = np.array(dataset[k])\n",
    "\n",
    "# Definindo critério\n",
    "criterio = 'price'\n",
    "\n",
    "# Retirando o index referente ao maior valor encontrado\n",
    "mais_caro = np.argmax(dataset[criterio])\n",
    "\n",
    "app = []\n",
    "preco = []\n",
    "\n",
    "# Ligando o index encontrado com o nome e preço do aplicativo\n",
    "app.append(dataset['app'][mais_caro])\n",
    "preco.append(dataset['price'][mais_caro])\n",
    "\n",
    "print('Nome do app:', app, 'Preço do aplicativo:', '$',preco) "
   ]
  },
  {
   "cell_type": "code",
   "execution_count": 7,
   "metadata": {},
   "outputs": [
    {
     "name": "stdout",
     "output_type": "stream",
     "text": [
      "O número de apps classificados como Mature 17+ são: 393\n"
     ]
    }
   ],
   "source": [
    "# 4. Mostre quantos apps são classificados como Mature 17+.\n",
    "\n",
    "dataset_1={\n",
    "    'app' : [],\n",
    "    'content rating' : [],}\n",
    "\n",
    "# Abrindo CSV, definindo a delimitação do arquivo por \",\"\n",
    "with open('googleplaystore.csv', 'r', encoding='utf8') as f:\n",
    "    arquivo_csv = csv.reader(f, delimiter= ',', quotechar='\"')\n",
    "    for i, row in enumerate(arquivo_csv):\n",
    "        if i == 0:\n",
    "            continue \n",
    "        if(row[0] not in dataset_1['app']):    \n",
    "# Definindo cada coluna\n",
    "            dataset_1['app'].append(row[0])\n",
    "            dataset_1['content rating'].append(row[8])\n",
    "        else:\n",
    "            continue\n",
    "for k in dataset_1.keys():\n",
    "    dataset_1[k] = np.array(dataset_1[k])\n",
    "\n",
    "# Definindo critério\n",
    "criterio = 'content rating'\n",
    "\n",
    "# Criando dicionario que liga a colunas \"unique\" com o contador \"counts\"\n",
    "unique, counts = np.unique(dataset_1[criterio], return_counts=True)\n",
    "\n",
    "dicionario = dict(zip(unique, counts))\n",
    "\n",
    "# Printando o contador relativo a coluna \"unique\", que satifaz o resultado \"Mature 17+\"\n",
    "for unique, counts in dicionario.items():\n",
    "    if unique == 'Mature 17+':\n",
    "        print ('O número de apps classificados como Mature 17+ são:', counts) "
   ]
  },
  {
   "cell_type": "code",
   "execution_count": 7,
   "metadata": {},
   "outputs": [
    {
     "data": {
      "text/plain": [
       "{'Facebook': 78128208,\n",
       " 'WhatsApp Messenger': 69109672,\n",
       " 'Instagram': 66509917,\n",
       " 'Messenger – Text and Video Chat for Free': 56642847,\n",
       " 'Clash of Clans': 44881447,\n",
       " 'Clean Master- Space Cleaner & Antivirus': 42916526,\n",
       " 'Subway Surfers': 27711703,\n",
       " 'YouTube': 25623548,\n",
       " 'Security Master - Antivirus, VPN, AppLock, Booster': 24900999,\n",
       " 'Clash Royale': 23125280}"
      ]
     },
     "execution_count": 7,
     "metadata": {},
     "output_type": "execute_result"
    }
   ],
   "source": [
    "# 5. Mostre o top 10 apps por número de reviews bem como o respectivo número de reviews. Ordene a lista de forma decrescente por número de reviews.\n",
    "\n",
    "dataset={\n",
    "    'app' : [],\n",
    "    'reviews' : [],}\n",
    "\n",
    "# Abrindo CSV, definindo a delimitação do arquivo por \",\"\n",
    "with open('googleplaystore.csv', 'r', encoding='utf8') as f:\n",
    "    arquivo_csv = csv.reader(f, delimiter= ',', quotechar='\"')\n",
    "    for i, row in enumerate(arquivo_csv):\n",
    "        if i == 0:\n",
    "            continue\n",
    "\n",
    "# Retirando strings indesejados e convertendo em inteiro\n",
    "        row[3] = row[3].replace('+','')\n",
    "        row[3] = row[3].replace('3.0M','0')\n",
    "        row[3] = (int(row[3]))\n",
    "\n",
    "# Definindo cada coluna\n",
    "        dataset['app'].append(row[0])\n",
    "        dataset['reviews'].append(row[3])\n",
    "\n",
    "for k in dataset.keys():\n",
    "    dataset[k] = np.array(dataset[k])\n",
    "\n",
    "# Definindo critério\n",
    "criterio = 'reviews'\n",
    "\n",
    "# Ordenando critério por número de reviews\n",
    "top_10 = np.argsort(dataset[criterio])[::-1][:30]\n",
    "\n",
    "app = []\n",
    "reviews = []\n",
    "\n",
    "for i in top_10:\n",
    "    app.append(dataset['app'][i])\n",
    "    reviews.append(dataset['reviews'][i])\n",
    "\n",
    "dicionario = dict(zip(app, reviews))\n",
    "\n",
    "dicionario"
   ]
  },
  {
   "cell_type": "markdown",
   "metadata": {},
   "source": [
    "***"
   ]
  },
  {
   "cell_type": "markdown",
   "metadata": {},
   "source": [
    " # **Parte 2**"
   ]
  },
  {
   "cell_type": "markdown",
   "metadata": {},
   "source": [
    "***• EXERCÍCIO 1: Dada a distribuição normal 2D centralizada em 3 mostrada abaixo. Remova a média do das colunas (x, y) para centralizar a distribuição em zero.***  "
   ]
  },
  {
   "cell_type": "code",
   "execution_count": 54,
   "metadata": {},
   "outputs": [
    {
     "data": {
      "image/png": "[encoded data removed]",
      "text/plain": [
       "<Figure size 432x288 with 2 Axes>"
      ]
     },
     "metadata": {
      "needs_background": "light"
     },
     "output_type": "display_data"
    },
    {
     "name": "stdout",
     "output_type": "stream",
     "text": [
      "A média do coluna X é: 0.0010118405126132142\n",
      "A média do coluna Y é: 0.00020671561380561642\n"
     ]
    }
   ],
   "source": [
    "a = np.random.normal(loc=0, size=(50000, 2))\n",
    "plt.hist2d(a[:, 0], a[:, 1], bins=100)\n",
    "cbar = plt.colorbar()\n",
    "cbar.ax.set_ylabel('Frequência')\n",
    "plt.show() \n",
    "\n",
    "# Calcular média das colunas (x, y)\n",
    "media_colx=np.mean(a[:, 0])\n",
    "media_coly=np.mean(a[:, 1])\n",
    "\n",
    "print('A média do coluna X é:', media_colx)\n",
    "print('A média do coluna Y é:', media_coly)"
   ]
  },
  {
   "cell_type": "markdown",
   "metadata": {},
   "source": [
    "***• EXERCÍCIO 2: Calcule a média de cada um dos canais da imagem abaixo (RGB), após calcular a média, para cada pixel da imagem, remova a média do seu respectivo canal.***  "
   ]
  },
  {
   "cell_type": "code",
   "execution_count": null,
   "metadata": {},
   "outputs": [],
   "source": [
    "image = np.array(Image.open('python_image.jpg'))\n",
    "print('Shape da imagem: {}, dtype: {}'.format(image.shape, image.dtype))\n",
    "plt.imshow(image)\n",
    "plt.show() \n",
    "\n",
    "image.mean(axis=(1,2))"
   ]
  },
  {
   "cell_type": "markdown",
   "metadata": {},
   "source": [
    "***• EXERCÍCIO 3: Faça a normalização dos dados a seguir utilizando a abordagem Z-score. A abordagem Z-score consiste em centralizar os dados em 0 (remover a média) e corrigir deformidades. A fórmula da normalização é a seguir:***  \n",
    "\n",
    "***x_{i} = \\frac{x_{i} - \\mu_{i}}{\\sigma_{i}} Onde x_{i}xi é um atributo do dataset.***  "
   ]
  },
  {
   "cell_type": "code",
   "execution_count": 57,
   "metadata": {},
   "outputs": [
    {
     "name": "stdout",
     "output_type": "stream",
     "text": [
      "(178, 4)\n"
     ]
    },
    {
     "data": {
      "image/png": "[encoded data removed]",
      "text/plain": [
       "<Figure size 432x288 with 1 Axes>"
      ]
     },
     "metadata": {
      "needs_background": "light"
     },
     "output_type": "display_data"
    }
   ],
   "source": [
    "# Importação de dados\n",
    "dataset = np.loadtxt('wine_data.csv', delimiter=',')\n",
    "dataset = dataset[:, :4] # ['Class label', 'Alcohol', 'Malic acid']\n",
    "print(dataset.shape)\n",
    "plt.scatter(dataset[:, 1], dataset[:, 2], c=dataset[:, 0])\n",
    "plt.title('Alcohol and Malic Acid content of the wine dataset')\n",
    "plt.xlabel('Alcohol')\n",
    "plt.ylabel('Malic acid')\n",
    "plt.show()\n",
    "\n",
    "# Fórmula para normalização dos dados\n",
    "df_zscore = (dataset - dataset.mean())/dataset.std()"
   ]
  },
  {
   "cell_type": "markdown",
   "metadata": {},
   "source": [
    "***• EXERCÍCIO 4: Dada a função abaixo que recebe 3 vértices 2D (3x2) e plota o triângulo correspondente, calcule o centro do triângulo e utilize a função plot_triangle para plotar o triângulo juntamente com o seu centro***  "
   ]
  },
  {
   "cell_type": "code",
   "execution_count": 58,
   "metadata": {},
   "outputs": [
    {
     "data": {
      "image/png": "[encoded data removed]",
      "text/plain": [
       "<Figure size 288x288 with 1 Axes>"
      ]
     },
     "metadata": {
      "needs_background": "light"
     },
     "output_type": "display_data"
    }
   ],
   "source": [
    "# Plotar Triângulo\n",
    "def plot_triangle(vertices, center=None):\n",
    "\n",
    "    trishape = plt.Polygon(vertices, edgecolor='r', alpha=0.2, lw=5)\n",
    "    _, ax = plt.subplots(figsize=(4, 4))\n",
    "    ax.add_patch(trishape)\n",
    "    ax.set_ylim([.5, 3.5])\n",
    "    ax.set_xlim([.5, 3.5])\n",
    "\n",
    "    if center is not None:\n",
    "      ax.scatter(*center, color='g', marker='D', s=70)\n",
    "    ax.scatter(vertices[:, 0], vertices[:, 1], color='b', s=50)\n",
    "    # Defini o centro do circulo com plt.scatter\n",
    "    plt.scatter(X1, Y1,s=20,c='red')\n",
    "    plt.show()\n",
    "\n",
    "coordenadas = np.array([[1, 1],[3, 1],[2, 3]]) \n",
    "\n",
    "# Soma as colunas relativas a X e Y\n",
    "XY = np.sum(coordenadas, axis=0)\n",
    "\n",
    "# Atribui a X1 e Y1 seus respectivos valores\n",
    "X1 = (XY[0])\n",
    "Y1 = (XY[1])\n",
    "\n",
    "# Divide a soma das colunas X e Y para ter como resultado o baricentro do triângulo\n",
    "X1 = X1/3\n",
    "Y1 = Y1/3\n",
    "\n",
    "plot_triangle(coordenadas)"
   ]
  },
  {
   "cell_type": "markdown",
   "metadata": {},
   "source": [
    "***• EXERCÍCIO 5: Dado o array 2D abaixo, normalize cada linha pela sua própria norma L2. A fórmula da normalização L2 é a seguinte:***  "
   ]
  },
  {
   "cell_type": "code",
   "execution_count": null,
   "metadata": {},
   "outputs": [],
   "source": [
    "a = np.random.normal(size=(20, 100))\n",
    "# Norma L2\n",
    "\n",
    "def norm(x):\n",
    "    return [(a - np.min(a))/ (np.max(a) - np.min(a))]\n",
    "\n",
    "print(norm(x))"
   ]
  },
  {
   "cell_type": "markdown",
   "metadata": {},
   "source": [
    "***"
   ]
  },
  {
   "cell_type": "markdown",
   "metadata": {},
   "source": [
    " # **Parte 3**"
   ]
  },
  {
   "cell_type": "markdown",
   "metadata": {},
   "source": [
    "***• EXERCÍCIO 1: Leia o arquivo actors.csv e faça os seguintes cálculos sobre o conjunto de dados utilizando Pandas:***  \n",
    "\n",
    "***1. O ator/atriz com maior número de filmes e o respectivo número de filmes.***  \n",
    "\n",
    "***2. A média do número de filmes.***  \n",
    "\n",
    "***3. O ator/atriz com a maior média por filme.***  \n",
    "\n",
    "***4. O nome do(s) filme(s) mais frequente(s) e sua respectiva frequência.***  "
   ]
  },
  {
   "cell_type": "code",
   "execution_count": null,
   "metadata": {},
   "outputs": [],
   "source": [
    "#1. O ator/atriz com maior número de filmes e o respectivo número de filmes.\n",
    "\n",
    "# Ler CSV e definir nomes das colunas\n",
    "df=pd.read_csv('actors.csv')\n",
    "df.rename(columns={'Actor': 'Ator', 'Total Gross': 'TotalGross', 'Number of Movies': 'NumeroDeFilmes', 'Average per Movie': 'MediaPorFilmes', '#1 Movie': '1#Filme', 'Gross': 'Gross'}, inplace=True)\n",
    "\n",
    "# Achar o maior número de filmes\n",
    "Filmes=df['NumeroDeFilmes'].max()\n",
    "\n",
    "# Localizar Número de filmes que é igual a .max()\n",
    "df.loc[df['NumeroDeFilmes'] == Filmes] "
   ]
  },
  {
   "cell_type": "code",
   "execution_count": null,
   "metadata": {},
   "outputs": [],
   "source": [
    "#2. A média do número de filmes.\n",
    "\n",
    "# Achar a média do número de filmes\n",
    "df_mean = df[\"NumeroDeFilmes\"].mean()\n",
    "\n",
    "print('A média do número de filmes é:', round(df_mean))"
   ]
  },
  {
   "cell_type": "code",
   "execution_count": null,
   "metadata": {},
   "outputs": [],
   "source": [
    "#3. O ator/atriz com a maior média por filme.\n",
    "\n",
    "# Achar a maior média por filmes\n",
    "Media=df['MediaPorFilmes'].max()\n",
    "\n",
    "# Localizar Média de filmes que é igual a .max()\n",
    "df.loc[df['MediaPorFilmes'] == Media] "
   ]
  },
  {
   "cell_type": "code",
   "execution_count": null,
   "metadata": {},
   "outputs": [],
   "source": [
    "#4. O nome do(s) filme(s) mais frequente(s) e sua respectiva frequência.\n",
    "\n",
    "# Achar o filmes mais frequente\n",
    "Frequencia=df['Gross'].max()\n",
    "\n",
    "# Localizar Filme que é igual a .max()\n",
    "df.loc[df['Gross'] == Frequencia] "
   ]
  },
  {
   "cell_type": "markdown",
   "metadata": {},
   "source": [
    "***• EXERCÍCIO 2: Leia o arquivo csv googleplaystore.csv e realize as seguintes atividades sobre o dataset utilizando Pandas:***  \n",
    "\n",
    "***1. Faça um gráfico de barras contendo os top 5 apps por número de instalação.***  \n",
    "\n",
    "***2. Faça um gráfico de pizza (pie chart) mostrando as categorias de apps existentes no dataset de acordo com a frequência em que elas aparecem.***  \n",
    "\n",
    "***3. Mostre qual o app mais caro existente no dataset.***  \n",
    "\n",
    "***4. Mostre quantos apps são classificados como Mature 17+.***  \n",
    "\n",
    "***5. Mostre o top 10 apps por número de reviews bem como o respectivo número de reviews. Ordene a lista de forma decrescente por número de reviews.***"
   ]
  },
  {
   "cell_type": "code",
   "execution_count": 2,
   "metadata": {},
   "outputs": [
    {
     "data": {
      "text/plain": [
       "<matplotlib.legend.Legend at 0x1e4f35f09d0>"
      ]
     },
     "execution_count": 2,
     "metadata": {},
     "output_type": "execute_result"
    },
    {
     "data": {
      "image/png": "[encoded data removed]",
      "text/plain": [
       "<Figure size 432x288 with 1 Axes>"
      ]
     },
     "metadata": {
      "needs_background": "light"
     },
     "output_type": "display_data"
    }
   ],
   "source": [
    "# Ler CSV\n",
    "df_google=pd.read_csv('googleplaystore.csv', sep=',')\n",
    "pd.options.mode.chained_assignment = None \n",
    "\n",
    "# Remover simbolos e strings indesejados\n",
    "instalacao = df_google['Installs'].str.replace('+','', regex=True).str.replace('Free','0').str.replace(',','')\n",
    "\n",
    "# Merge dos dataframas para juntar com a colunas \"Installs_y\"\n",
    "df_merge = pd.merge(df_google, instalacao, left_index=True, right_index=True, how='outer')\n",
    "\n",
    "# Transformar conteúdo string em Float\n",
    "x = instalacao.astype(float)\n",
    "\n",
    "# Ordenar por ordem decrescente limitado a 5 outputs\n",
    "x = x.sort_values(ascending=False, kind='stable')[:5]\n",
    "\n",
    "# Retirar o index dos 5 valores e conectalos com o df\n",
    "index = x.index\n",
    "data = df_merge.iloc[index]\n",
    "data['Installs_y']=data['Installs_y'].astype(float)\n",
    "\n",
    "# Plotar os valores\n",
    "data.plot.barh(x='App', y='Installs_y', fill = False, edgecolor = 'Violet') \n",
    "plt.title('Top 5 aplicativos mais baixados')\n",
    "plt.xlabel('Número de Downloads: 1.000.000.000+')\n",
    "plt.ylabel('Aplicativos')\n",
    "plt.legend(['Downloads'], loc= 4, bbox_to_anchor=(0.5, 1., 0.9, 0.5), fontsize=12) "
   ]
  },
  {
   "cell_type": "code",
   "execution_count": 23,
   "metadata": {},
   "outputs": [
    {
     "data": {
      "image/png": "[encoded data removed]",
      "text/plain": [
       "<Figure size 576x576 with 1 Axes>"
      ]
     },
     "metadata": {},
     "output_type": "display_data"
    }
   ],
   "source": [
    "# 2. Faça um gráfico de pizza (pie chart) mostrando as categorias de apps existentes no dataset de acordo com a frequência em que elas aparecem.\n",
    "\n",
    "# Contar número de categotias e plotar\n",
    "categorias = df_google[['Category']].value_counts()[:10].plot.pie(figsize=(8, 8), autopct='%1.1f%%', title='Categorias dos Aplicativos em %')"
   ]
  },
  {
   "cell_type": "code",
   "execution_count": 22,
   "metadata": {},
   "outputs": [
    {
     "data": {
      "text/html": [
       "<div>\n",
       "<style scoped>\n",
       "    .dataframe tbody tr th:only-of-type {\n",
       "        vertical-align: middle;\n",
       "    }\n",
       "\n",
       "    .dataframe tbody tr th {\n",
       "        vertical-align: top;\n",
       "    }\n",
       "\n",
       "    .dataframe thead th {\n",
       "        text-align: right;\n",
       "    }\n",
       "</style>\n",
       "<table border=\"1\" class=\"dataframe\">\n",
       "  <thead>\n",
       "    <tr style=\"text-align: right;\">\n",
       "      <th></th>\n",
       "      <th>4367</th>\n",
       "    </tr>\n",
       "  </thead>\n",
       "  <tbody>\n",
       "    <tr>\n",
       "      <th>App</th>\n",
       "      <td>I'm Rich - Trump Edition</td>\n",
       "    </tr>\n",
       "    <tr>\n",
       "      <th>Category</th>\n",
       "      <td>LIFESTYLE</td>\n",
       "    </tr>\n",
       "    <tr>\n",
       "      <th>Rating</th>\n",
       "      <td>3.6</td>\n",
       "    </tr>\n",
       "    <tr>\n",
       "      <th>Reviews</th>\n",
       "      <td>275</td>\n",
       "    </tr>\n",
       "    <tr>\n",
       "      <th>Size</th>\n",
       "      <td>7.3M</td>\n",
       "    </tr>\n",
       "    <tr>\n",
       "      <th>Installs</th>\n",
       "      <td>10,000+</td>\n",
       "    </tr>\n",
       "    <tr>\n",
       "      <th>Type</th>\n",
       "      <td>Paid</td>\n",
       "    </tr>\n",
       "    <tr>\n",
       "      <th>Price</th>\n",
       "      <td>$400.00</td>\n",
       "    </tr>\n",
       "    <tr>\n",
       "      <th>Content Rating</th>\n",
       "      <td>Everyone</td>\n",
       "    </tr>\n",
       "    <tr>\n",
       "      <th>Genres</th>\n",
       "      <td>Lifestyle</td>\n",
       "    </tr>\n",
       "    <tr>\n",
       "      <th>Last Updated</th>\n",
       "      <td>May 3, 2018</td>\n",
       "    </tr>\n",
       "    <tr>\n",
       "      <th>Current Ver</th>\n",
       "      <td>1.0.1</td>\n",
       "    </tr>\n",
       "    <tr>\n",
       "      <th>Android Ver</th>\n",
       "      <td>4.1 and up</td>\n",
       "    </tr>\n",
       "  </tbody>\n",
       "</table>\n",
       "</div>"
      ],
      "text/plain": [
       "                                    4367\n",
       "App             I'm Rich - Trump Edition\n",
       "Category                       LIFESTYLE\n",
       "Rating                               3.6\n",
       "Reviews                              275\n",
       "Size                                7.3M\n",
       "Installs                         10,000+\n",
       "Type                                Paid\n",
       "Price                            $400.00\n",
       "Content Rating                  Everyone\n",
       "Genres                         Lifestyle\n",
       "Last Updated                 May 3, 2018\n",
       "Current Ver                        1.0.1\n",
       "Android Ver                   4.1 and up"
      ]
     },
     "execution_count": 22,
     "metadata": {},
     "output_type": "execute_result"
    }
   ],
   "source": [
    "# 3. Mostre qual o app mais caro existente no dataset.\n",
    "\n",
    "# Remover simbolos e strings indesejados\n",
    "preco = df_google['Price'].str.replace('$','', regex=True).str.replace('Everyone','0', regex=True)\n",
    "\n",
    "# Transformar em valor numérico\n",
    "maior_preco = pd.to_numeric(preco)\n",
    "\n",
    "# Selecionar index do valor mais alto\n",
    "x = maior_preco.idxmax()\n",
    "\n",
    "# Transformar em um df\n",
    "df_google.loc[x].to_frame()"
   ]
  },
  {
   "cell_type": "markdown",
   "metadata": {},
   "source": [
    "***"
   ]
  },
  {
   "cell_type": "code",
   "execution_count": 21,
   "metadata": {},
   "outputs": [
    {
     "data": {
      "text/html": [
       "<div>\n",
       "<style scoped>\n",
       "    .dataframe tbody tr th:only-of-type {\n",
       "        vertical-align: middle;\n",
       "    }\n",
       "\n",
       "    .dataframe tbody tr th {\n",
       "        vertical-align: top;\n",
       "    }\n",
       "\n",
       "    .dataframe thead th {\n",
       "        text-align: right;\n",
       "    }\n",
       "</style>\n",
       "<table border=\"1\" class=\"dataframe\">\n",
       "  <thead>\n",
       "    <tr style=\"text-align: right;\">\n",
       "      <th></th>\n",
       "      <th>Número de aplicativos 17+</th>\n",
       "    </tr>\n",
       "    <tr>\n",
       "      <th>Content Rating</th>\n",
       "      <th></th>\n",
       "    </tr>\n",
       "  </thead>\n",
       "  <tbody>\n",
       "    <tr>\n",
       "      <th>Mature 17+</th>\n",
       "      <td>393</td>\n",
       "    </tr>\n",
       "  </tbody>\n",
       "</table>\n",
       "</div>"
      ],
      "text/plain": [
       "                Número de aplicativos 17+\n",
       "Content Rating                           \n",
       "Mature 17+                            393"
      ]
     },
     "execution_count": 21,
     "metadata": {},
     "output_type": "execute_result"
    }
   ],
   "source": [
    "# 4. Mostre quantos apps são classificados como Mature 17+.\n",
    "\n",
    "# Contar o número da tabela content rating e selecionar por \"Mature +17\"\n",
    "\n",
    "df_google = df_google.drop_duplicates('App')\n",
    "\n",
    "classificacao = df_google[['Content Rating']].value_counts().rename(index='Número de aplicativos 17+').loc['Mature 17+'] \n",
    "\n",
    "# Transformar em um df\n",
    "classificacao.to_frame()"
   ]
  },
  {
   "cell_type": "code",
   "execution_count": 3,
   "metadata": {},
   "outputs": [
    {
     "data": {
      "text/html": [
       "<div>\n",
       "<style scoped>\n",
       "    .dataframe tbody tr th:only-of-type {\n",
       "        vertical-align: middle;\n",
       "    }\n",
       "\n",
       "    .dataframe tbody tr th {\n",
       "        vertical-align: top;\n",
       "    }\n",
       "\n",
       "    .dataframe thead th {\n",
       "        text-align: right;\n",
       "    }\n",
       "</style>\n",
       "<table border=\"1\" class=\"dataframe\">\n",
       "  <thead>\n",
       "    <tr style=\"text-align: right;\">\n",
       "      <th></th>\n",
       "      <th>App</th>\n",
       "      <th>Reviews</th>\n",
       "    </tr>\n",
       "  </thead>\n",
       "  <tbody>\n",
       "    <tr>\n",
       "      <th>2544</th>\n",
       "      <td>Facebook</td>\n",
       "      <td>78158306</td>\n",
       "    </tr>\n",
       "    <tr>\n",
       "      <th>3943</th>\n",
       "      <td>Facebook</td>\n",
       "      <td>78128208</td>\n",
       "    </tr>\n",
       "    <tr>\n",
       "      <th>381</th>\n",
       "      <td>WhatsApp Messenger</td>\n",
       "      <td>69119316</td>\n",
       "    </tr>\n",
       "    <tr>\n",
       "      <th>336</th>\n",
       "      <td>WhatsApp Messenger</td>\n",
       "      <td>69119316</td>\n",
       "    </tr>\n",
       "    <tr>\n",
       "      <th>3904</th>\n",
       "      <td>WhatsApp Messenger</td>\n",
       "      <td>69109672</td>\n",
       "    </tr>\n",
       "    <tr>\n",
       "      <th>2604</th>\n",
       "      <td>Instagram</td>\n",
       "      <td>66577446</td>\n",
       "    </tr>\n",
       "    <tr>\n",
       "      <th>2611</th>\n",
       "      <td>Instagram</td>\n",
       "      <td>66577313</td>\n",
       "    </tr>\n",
       "    <tr>\n",
       "      <th>2545</th>\n",
       "      <td>Instagram</td>\n",
       "      <td>66577313</td>\n",
       "    </tr>\n",
       "    <tr>\n",
       "      <th>3909</th>\n",
       "      <td>Instagram</td>\n",
       "      <td>66509917</td>\n",
       "    </tr>\n",
       "    <tr>\n",
       "      <th>382</th>\n",
       "      <td>Messenger – Text and Video Chat for Free</td>\n",
       "      <td>56646578</td>\n",
       "    </tr>\n",
       "  </tbody>\n",
       "</table>\n",
       "</div>"
      ],
      "text/plain": [
       "                                           App   Reviews\n",
       "2544                                  Facebook  78158306\n",
       "3943                                  Facebook  78128208\n",
       "381                         WhatsApp Messenger  69119316\n",
       "336                         WhatsApp Messenger  69119316\n",
       "3904                        WhatsApp Messenger  69109672\n",
       "2604                                 Instagram  66577446\n",
       "2611                                 Instagram  66577313\n",
       "2545                                 Instagram  66577313\n",
       "3909                                 Instagram  66509917\n",
       "382   Messenger – Text and Video Chat for Free  56646578"
      ]
     },
     "execution_count": 3,
     "metadata": {},
     "output_type": "execute_result"
    }
   ],
   "source": [
    "# 5. Mostre o top 10 apps por número de reviews bem como o respectivo número de reviews. Ordene a lista de forma decrescente por número de reviews.\n",
    "\n",
    "x = df_google['Reviews'].str.rstrip('.+').str.replace('3.0M','0', regex=True)\n",
    "\n",
    "# Transformar em valor numérico\n",
    "maior_review = pd.to_numeric(x)\n",
    "\n",
    "# Definir os 10 maiores por index\n",
    "index = maior_review.sort_values(ascending=False)[:10].to_frame().index\n",
    "\n",
    "# Selecionar por index\n",
    "df_google[['App', 'Reviews']].iloc[index] "
   ]
  },
  {
   "cell_type": "markdown",
   "metadata": {},
   "source": [
    " # **Parte 4**"
   ]
  },
  {
   "cell_type": "markdown",
   "metadata": {},
   "source": [
    "***• EXERCÍCIO 1: Leia os arquivos fifa19_info.csv e o arquivo fifa19_stats.csv e realize os seguintes cálculos sobre o conjunto de dados:***  \n",
    "\n",
    "***1. Calcule a média de agilidade dos jogadores do Barcelona e do Real Madrid.***  \n",
    "\n",
    "***2. Faça um gráfico de barras com os top 10 clubes de acordo com a soma de valor seus jogadores.***  \n",
    "\n",
    "***3. Mostre os top 5 países que mais possuem jogadores no conjunto de dados.***  \n",
    "\n",
    "***4. Mostre a foto (virtual e real) dos top 5 jogadores de acordo com a habilidade absoluta (Overall).***  \n",
    "\n",
    "***5. Mostre qual é o jogador mais velho e mais novo.***  \n",
    "\n",
    "***6. Faça um gráfico de dispersão que contém o top 10 jogadores de acordo com a habilidade absoluta (Overall) no eixo X e sua habilidade em bater pênaltis (Penalties) no eixo y.***  \n",
    "\n",
    "***7. Mostre qual o clube que contém, em média, os melhores batedores de pênalti.***  \n",
    "\n",
    "***8. Mostre qual o clube que contém, em média, os jogadores mais caros.***  \n",
    "\n",
    "***9. Faça um gráfico de radar dos Jogadores L. Messi, Sergio Ramos e De Gea. Utilize os atributos Balance, Stamina, ShotPower, Marking, Dribling, SprintSpeed, Strength, Slidin gTackle e GKReflexes. Verifique o intervalo dos dados, talvez seja necessário normalizar.***"
   ]
  },
  {
   "cell_type": "code",
   "execution_count": 38,
   "metadata": {},
   "outputs": [],
   "source": [
    "# Ler os dois CSV's\n",
    "info=pd.read_csv('fifa19_info.csv', sep=',')\n",
    "info2=pd.read_csv('fifa19_info2.csv', sep=',')\n",
    "stats=pd.read_csv('fifa19_stats.csv', sep=',')\n",
    "\n",
    "# Merge entre as duas tabelas\n",
    "merge_df = pd.merge(info, stats, how = 'inner', on = 'ID') "
   ]
  },
  {
   "cell_type": "code",
   "execution_count": 65,
   "metadata": {},
   "outputs": [
    {
     "name": "stdout",
     "output_type": "stream",
     "text": [
      "A média de agilidade dos jogadores do Barcelona é: 69.21\n",
      "A média de agilidade dos jogadores do Real Madrid é: 68.76\n"
     ]
    }
   ],
   "source": [
    "# 1 - Calcule a média de agilidade dos jogadores do Barcelona e do Real Madrid.\n",
    "\n",
    "# Media de agilidade Barcelona\n",
    "media_barc = merge_df.loc[merge_df.Club == 'FC Barcelona', 'Agility'].mean()\n",
    "\n",
    "# Media de agilidade Real Madrid\n",
    "media_real = merge_df.loc[merge_df.Club == 'Real Madrid', 'Agility'].mean()\n",
    "\n",
    "print(f'A média de agilidade dos jogadores do Barcelona é: {media_barc:.2f}')\n",
    "print(f'A média de agilidade dos jogadores do Real Madrid é: {media_real:.2f}')"
   ]
  },
  {
   "cell_type": "code",
   "execution_count": 22,
   "metadata": {},
   "outputs": [
    {
     "data": {
      "text/plain": [
       "<AxesSubplot:title={'center':'Top 10 clubes de acordo com a soma de valor seus jogadores'}, xlabel='Club'>"
      ]
     },
     "execution_count": 22,
     "metadata": {},
     "output_type": "execute_result"
    },
    {
     "data": {
      "image/png": "[encoded data removed]",
      "text/plain": [
       "<Figure size 720x360 with 1 Axes>"
      ]
     },
     "metadata": {
      "needs_background": "light"
     },
     "output_type": "display_data"
    }
   ],
   "source": [
    "# 2 - Faça um gráfico de barras com os top 10 clubes de acordo com a soma de valor seus jogadores.\n",
    "\n",
    "# Fazer um replace de todos os valores indesejados da coluna \"Value\"\n",
    "Valor = info['Value'].apply(lambda x: str(x).replace('€','')).apply(lambda x: str(x).replace('M','000000')).apply(lambda x: str(x).replace('K','000'))\n",
    "\n",
    "Valor.to_frame()\n",
    "\n",
    "# Juntar as tabelas Info e Valor\n",
    "df_merge = pd.merge(info, Valor, left_index=True, right_index=True, how='outer')\n",
    "\n",
    "# Transformar a colunas \"Value_y\" em numérica\n",
    "df_merge['Value_y'] = pd.to_numeric(df_merge['Value_y'], errors='coerce')\n",
    "\n",
    "# Agrupar por Clube e somar a colunas \"Value_y\" para obter a soma de todos os jogadores\n",
    "x = df_merge.groupby(['Club'])['Value_y'].sum().sort_values(ascending=False)[:10]\n",
    "\n",
    "# Plotar Gráfico\n",
    "plt.figure(figsize=(10,5))\n",
    "\n",
    "x.plot.bar(title='Top 10 clubes de acordo com a soma de valor seus jogadores', rot=90,  fill = False, edgecolor = 'Blue')"
   ]
  },
  {
   "cell_type": "code",
   "execution_count": 67,
   "metadata": {},
   "outputs": [
    {
     "data": {
      "image/png": "[encoded data removed]",
      "text/plain": [
       "<Figure size 432x288 with 1 Axes>"
      ]
     },
     "metadata": {
      "needs_background": "light"
     },
     "output_type": "display_data"
    }
   ],
   "source": [
    "# 3 - Mostre os top 5 países que mais possuem jogadores no conjunto de dados.\n",
    "\n",
    "# Contar os valores da coluna nacionalidade, definir limite de outputs como '5' e plotar o gráfico\n",
    "top = info[['Nationality']].value_counts()[:10].plot.bar(fill = False, edgecolor = 'Red')\n",
    "plt.title('Top 5 países com mais jogadores')\n",
    "plt.xlabel('Países')\n",
    "plt.ylabel('Número de jogadores')\n",
    "\n",
    "plt.show()"
   ]
  },
  {
   "cell_type": "code",
   "execution_count": 68,
   "metadata": {},
   "outputs": [
    {
     "data": {
      "text/html": [
       "<table border=\"1\" class=\"dataframe\">\n",
       "  <thead>\n",
       "    <tr style=\"text-align: right;\">\n",
       "      <th></th>\n",
       "      <th>Name</th>\n",
       "      <th>Photo</th>\n",
       "    </tr>\n",
       "  </thead>\n",
       "  <tbody>\n",
       "    <tr>\n",
       "      <th>0</th>\n",
       "      <td>L. Messi</td>\n",
       "      <td><img src=\"https://cdn.sofifa.net/players/158/023/19_120.png\" width=\"60\" ></td>\n",
       "    </tr>\n",
       "    <tr>\n",
       "      <th>1</th>\n",
       "      <td>Cristiano Ronaldo</td>\n",
       "      <td><img src=\"https://cdn.sofifa.net/players/020/801/19_120.png\" width=\"60\" ></td>\n",
       "    </tr>\n",
       "    <tr>\n",
       "      <th>2</th>\n",
       "      <td>Neymar Jr</td>\n",
       "      <td><img src=\"https://cdn.sofifa.net/players/190/871/19_120.png\" width=\"60\" ></td>\n",
       "    </tr>\n",
       "    <tr>\n",
       "      <th>3</th>\n",
       "      <td>De Gea</td>\n",
       "      <td><img src=\"https://cdn.sofifa.net/players/193/080/19_120.png\" width=\"60\" ></td>\n",
       "    </tr>\n",
       "    <tr>\n",
       "      <th>4</th>\n",
       "      <td>K. De Bruyne</td>\n",
       "      <td><img src=\"https://cdn.sofifa.net/players/192/985/19_120.png\" width=\"60\" ></td>\n",
       "    </tr>\n",
       "  </tbody>\n",
       "</table>"
      ],
      "text/plain": [
       "<IPython.core.display.HTML object>"
      ]
     },
     "execution_count": 68,
     "metadata": {},
     "output_type": "execute_result"
    }
   ],
   "source": [
    "# 4 - Mostre a foto (virtual e real) dos top 5 jogadores de acordo com a habilidade absoluta (Overall).\n",
    "\n",
    "# Me dei a liberdade de alterar o banco de dados pricipal pois as URL's antigas não existiam mais\n",
    "# Como são apenas 5 jogadores, alterei as imagens manualmente, apenas deles\n",
    "\n",
    "# Seleciona dataframe por Overall limitado a 5 outputs\n",
    "PhotosTop5 = info2[:5]\n",
    "\n",
    "# Limita as colunas por Nome e Foto\n",
    "PhotosTop5 = PhotosTop5[['Name', 'Photo']]\n",
    "\n",
    "# Funcão para importar as fotos dos jogadores por URL\n",
    "def path_to_image_html(path):\n",
    "    return '<img src=\"'+ path + '\" width=\"60\" >'\n",
    "\n",
    "PhotosTop5.to_html(escape=False, formatters=dict(Photo=path_to_image_html))\n",
    "\n",
    "HTML(PhotosTop5.to_html(escape=False,formatters=dict(Photo=path_to_image_html)))"
   ]
  },
  {
   "cell_type": "code",
   "execution_count": 15,
   "metadata": {},
   "outputs": [
    {
     "data": {
      "text/html": [
       "<div>\n",
       "<style scoped>\n",
       "    .dataframe tbody tr th:only-of-type {\n",
       "        vertical-align: middle;\n",
       "    }\n",
       "\n",
       "    .dataframe tbody tr th {\n",
       "        vertical-align: top;\n",
       "    }\n",
       "\n",
       "    .dataframe thead th {\n",
       "        text-align: right;\n",
       "    }\n",
       "</style>\n",
       "<table border=\"1\" class=\"dataframe\">\n",
       "  <thead>\n",
       "    <tr style=\"text-align: right;\">\n",
       "      <th></th>\n",
       "      <th>4741</th>\n",
       "    </tr>\n",
       "  </thead>\n",
       "  <tbody>\n",
       "    <tr>\n",
       "      <th>ID</th>\n",
       "      <td>140029</td>\n",
       "    </tr>\n",
       "    <tr>\n",
       "      <th>Name</th>\n",
       "      <td>O. Pérez</td>\n",
       "    </tr>\n",
       "    <tr>\n",
       "      <th>Club</th>\n",
       "      <td>Pachuca</td>\n",
       "    </tr>\n",
       "    <tr>\n",
       "      <th>Photo</th>\n",
       "      <td>https://cdn.sofifa.org/players/4/19/140029.png</td>\n",
       "    </tr>\n",
       "    <tr>\n",
       "      <th>Flag</th>\n",
       "      <td>https://cdn.sofifa.org/flags/83.png</td>\n",
       "    </tr>\n",
       "    <tr>\n",
       "      <th>Nationality</th>\n",
       "      <td>Mexico</td>\n",
       "    </tr>\n",
       "    <tr>\n",
       "      <th>Club Logo</th>\n",
       "      <td>https://cdn.sofifa.org/teams/2/light/110147.png</td>\n",
       "    </tr>\n",
       "    <tr>\n",
       "      <th>Value</th>\n",
       "      <td>€160K</td>\n",
       "    </tr>\n",
       "    <tr>\n",
       "      <th>International Reputation</th>\n",
       "      <td>2.0</td>\n",
       "    </tr>\n",
       "    <tr>\n",
       "      <th>Age</th>\n",
       "      <td>45</td>\n",
       "    </tr>\n",
       "    <tr>\n",
       "      <th>Wage</th>\n",
       "      <td>€8K</td>\n",
       "    </tr>\n",
       "  </tbody>\n",
       "</table>\n",
       "</div>"
      ],
      "text/plain": [
       "                                                                     4741\n",
       "ID                                                                 140029\n",
       "Name                                                             O. Pérez\n",
       "Club                                                              Pachuca\n",
       "Photo                      https://cdn.sofifa.org/players/4/19/140029.png\n",
       "Flag                                  https://cdn.sofifa.org/flags/83.png\n",
       "Nationality                                                        Mexico\n",
       "Club Logo                 https://cdn.sofifa.org/teams/2/light/110147.png\n",
       "Value                                                               €160K\n",
       "International Reputation                                              2.0\n",
       "Age                                                                    45\n",
       "Wage                                                                  €8K"
      ]
     },
     "execution_count": 15,
     "metadata": {},
     "output_type": "execute_result"
    }
   ],
   "source": [
    "#5 - Mostre qual é o jogador mais velho\n",
    "\n",
    "# Localizar o jogador mais velho pela coluna \"Age\", selecionar por seu index e transformar em um df para melhor vizualização\n",
    "info.loc[info['Age'].idxmax()].to_frame() "
   ]
  },
  {
   "cell_type": "code",
   "execution_count": 70,
   "metadata": {},
   "outputs": [
    {
     "data": {
      "text/html": [
       "<div>\n",
       "<style scoped>\n",
       "    .dataframe tbody tr th:only-of-type {\n",
       "        vertical-align: middle;\n",
       "    }\n",
       "\n",
       "    .dataframe tbody tr th {\n",
       "        vertical-align: top;\n",
       "    }\n",
       "\n",
       "    .dataframe thead th {\n",
       "        text-align: right;\n",
       "    }\n",
       "</style>\n",
       "<table border=\"1\" class=\"dataframe\">\n",
       "  <thead>\n",
       "    <tr style=\"text-align: right;\">\n",
       "      <th></th>\n",
       "      <th>11457</th>\n",
       "    </tr>\n",
       "  </thead>\n",
       "  <tbody>\n",
       "    <tr>\n",
       "      <th>ID</th>\n",
       "      <td>241266</td>\n",
       "    </tr>\n",
       "    <tr>\n",
       "      <th>Name</th>\n",
       "      <td>W. Geubbels</td>\n",
       "    </tr>\n",
       "    <tr>\n",
       "      <th>Club</th>\n",
       "      <td>AS Monaco</td>\n",
       "    </tr>\n",
       "    <tr>\n",
       "      <th>Photo</th>\n",
       "      <td>https://cdn.sofifa.org/players/4/19/241266.png</td>\n",
       "    </tr>\n",
       "    <tr>\n",
       "      <th>Flag</th>\n",
       "      <td>https://cdn.sofifa.org/flags/18.png</td>\n",
       "    </tr>\n",
       "    <tr>\n",
       "      <th>Nationality</th>\n",
       "      <td>France</td>\n",
       "    </tr>\n",
       "    <tr>\n",
       "      <th>Club Logo</th>\n",
       "      <td>https://cdn.sofifa.org/teams/2/light/69.png</td>\n",
       "    </tr>\n",
       "    <tr>\n",
       "      <th>Value</th>\n",
       "      <td>€1M</td>\n",
       "    </tr>\n",
       "    <tr>\n",
       "      <th>International Reputation</th>\n",
       "      <td>1.0</td>\n",
       "    </tr>\n",
       "    <tr>\n",
       "      <th>Age</th>\n",
       "      <td>16</td>\n",
       "    </tr>\n",
       "    <tr>\n",
       "      <th>Wage</th>\n",
       "      <td>€5K</td>\n",
       "    </tr>\n",
       "  </tbody>\n",
       "</table>\n",
       "</div>"
      ],
      "text/plain": [
       "                                                                   11457\n",
       "ID                                                                241266\n",
       "Name                                                         W. Geubbels\n",
       "Club                                                           AS Monaco\n",
       "Photo                     https://cdn.sofifa.org/players/4/19/241266.png\n",
       "Flag                                 https://cdn.sofifa.org/flags/18.png\n",
       "Nationality                                                       France\n",
       "Club Logo                    https://cdn.sofifa.org/teams/2/light/69.png\n",
       "Value                                                                €1M\n",
       "International Reputation                                             1.0\n",
       "Age                                                                   16\n",
       "Wage                                                                 €5K"
      ]
     },
     "execution_count": 70,
     "metadata": {},
     "output_type": "execute_result"
    }
   ],
   "source": [
    "#5.1 - Mostre qual é o jogador mais novo\n",
    "\n",
    "# Localizar o jogador mais novo pela coluna \"Age\", selecionar por seu index e transformar em um df para melhor vizualização\n",
    "info.loc[info['Age'].idxmin()].to_frame() "
   ]
  },
  {
   "cell_type": "code",
   "execution_count": 19,
   "metadata": {},
   "outputs": [
    {
     "data": {
      "text/plain": [
       "<matplotlib.collections.PathCollection at 0x26cfc6651c0>"
      ]
     },
     "execution_count": 19,
     "metadata": {},
     "output_type": "execute_result"
    },
    {
     "data": {
      "image/png": "[encoded data removed]",
      "text/plain": [
       "<Figure size 360x216 with 1 Axes>"
      ]
     },
     "metadata": {
      "needs_background": "light"
     },
     "output_type": "display_data"
    }
   ],
   "source": [
    "# 6 - Faça um gráfico de dispersão que contém o top 10 jogadores de acordo com a habilidade absoluta (Overall) no eixo X e sua habilidade em bater pênaltis (Penalties) no eixo y.\n",
    "\n",
    "# Selecionar o jogadores pela tabela \"Name\" e \"Penalties\"\n",
    "overall = merge_df[['Overall', 'Penalties']]\n",
    "\n",
    "# Definir limite de output em 10 valores\n",
    "overall2 = overall.head(10)\n",
    "\n",
    "# Plotar gráfico\n",
    "plt.figure(figsize=(5,3))\n",
    "plt.scatter(overall2['Overall'], overall2['Penalties'],s=50,c='green')"
   ]
  },
  {
   "cell_type": "code",
   "execution_count": 21,
   "metadata": {},
   "outputs": [
    {
     "data": {
      "text/html": [
       "<div>\n",
       "<style scoped>\n",
       "    .dataframe tbody tr th:only-of-type {\n",
       "        vertical-align: middle;\n",
       "    }\n",
       "\n",
       "    .dataframe tbody tr th {\n",
       "        vertical-align: top;\n",
       "    }\n",
       "\n",
       "    .dataframe thead th {\n",
       "        text-align: right;\n",
       "    }\n",
       "</style>\n",
       "<table border=\"1\" class=\"dataframe\">\n",
       "  <thead>\n",
       "    <tr style=\"text-align: right;\">\n",
       "      <th></th>\n",
       "      <th>Média/Pênaltis</th>\n",
       "    </tr>\n",
       "    <tr>\n",
       "      <th>Club</th>\n",
       "      <th></th>\n",
       "    </tr>\n",
       "  </thead>\n",
       "  <tbody>\n",
       "    <tr>\n",
       "      <th>Grêmio</th>\n",
       "      <td>60.7</td>\n",
       "    </tr>\n",
       "  </tbody>\n",
       "</table>\n",
       "</div>"
      ],
      "text/plain": [
       "        Média/Pênaltis\n",
       "Club                  \n",
       "Grêmio            60.7"
      ]
     },
     "execution_count": 21,
     "metadata": {},
     "output_type": "execute_result"
    }
   ],
   "source": [
    "# 7. Mostre qual o clube que contém, em média, os melhores batedores de pênalti.\n",
    "\n",
    "# Agrupar dataframe por Clube, definir a média da tabela \"Penalties\" de modo decrescente limitado a 1 output\n",
    "x = merge_df.groupby(['Club'])['Penalties'].mean().sort_values(ascending=False).rename(index='Média/Pênaltis')[:1]\n",
    "\n",
    "x.to_frame()"
   ]
  },
  {
   "cell_type": "code",
   "execution_count": 8,
   "metadata": {},
   "outputs": [
    {
     "ename": "NameError",
     "evalue": "name 'info' is not defined",
     "output_type": "error",
     "traceback": [
      "\u001b[1;31m---------------------------------------------------------------------------\u001b[0m",
      "\u001b[1;31mNameError\u001b[0m                                 Traceback (most recent call last)",
      "\u001b[1;32m<ipython-input-8-d65ef9f95b95>\u001b[0m in \u001b[0;36m<module>\u001b[1;34m\u001b[0m\n\u001b[0;32m      2\u001b[0m \u001b[1;33m\u001b[0m\u001b[0m\n\u001b[0;32m      3\u001b[0m \u001b[1;31m# Fazer um replace de todos os valores indesejados da coluna \"Value\"\u001b[0m\u001b[1;33m\u001b[0m\u001b[1;33m\u001b[0m\u001b[1;33m\u001b[0m\u001b[0m\n\u001b[1;32m----> 4\u001b[1;33m \u001b[0mValor\u001b[0m \u001b[1;33m=\u001b[0m \u001b[0minfo\u001b[0m\u001b[1;33m[\u001b[0m\u001b[1;34m'Value'\u001b[0m\u001b[1;33m]\u001b[0m\u001b[1;33m.\u001b[0m\u001b[0mapply\u001b[0m\u001b[1;33m(\u001b[0m\u001b[1;32mlambda\u001b[0m \u001b[0mx\u001b[0m\u001b[1;33m:\u001b[0m \u001b[0mstr\u001b[0m\u001b[1;33m(\u001b[0m\u001b[0mx\u001b[0m\u001b[1;33m)\u001b[0m\u001b[1;33m.\u001b[0m\u001b[0mreplace\u001b[0m\u001b[1;33m(\u001b[0m\u001b[1;34m'€'\u001b[0m\u001b[1;33m,\u001b[0m\u001b[1;34m''\u001b[0m\u001b[1;33m)\u001b[0m\u001b[1;33m)\u001b[0m\u001b[1;33m.\u001b[0m\u001b[0mapply\u001b[0m\u001b[1;33m(\u001b[0m\u001b[1;32mlambda\u001b[0m \u001b[0mx\u001b[0m\u001b[1;33m:\u001b[0m \u001b[0mstr\u001b[0m\u001b[1;33m(\u001b[0m\u001b[0mx\u001b[0m\u001b[1;33m)\u001b[0m\u001b[1;33m.\u001b[0m\u001b[0mreplace\u001b[0m\u001b[1;33m(\u001b[0m\u001b[1;34m'M'\u001b[0m\u001b[1;33m,\u001b[0m\u001b[1;34m'000000'\u001b[0m\u001b[1;33m)\u001b[0m\u001b[1;33m)\u001b[0m\u001b[1;33m.\u001b[0m\u001b[0mapply\u001b[0m\u001b[1;33m(\u001b[0m\u001b[1;32mlambda\u001b[0m \u001b[0mx\u001b[0m\u001b[1;33m:\u001b[0m \u001b[0mstr\u001b[0m\u001b[1;33m(\u001b[0m\u001b[0mx\u001b[0m\u001b[1;33m)\u001b[0m\u001b[1;33m.\u001b[0m\u001b[0mreplace\u001b[0m\u001b[1;33m(\u001b[0m\u001b[1;34m'K'\u001b[0m\u001b[1;33m,\u001b[0m\u001b[1;34m'000'\u001b[0m\u001b[1;33m)\u001b[0m\u001b[1;33m)\u001b[0m\u001b[1;33m\u001b[0m\u001b[1;33m\u001b[0m\u001b[0m\n\u001b[0m\u001b[0;32m      5\u001b[0m \u001b[1;33m\u001b[0m\u001b[0m\n\u001b[0;32m      6\u001b[0m \u001b[1;31m# Transformar para df\u001b[0m\u001b[1;33m\u001b[0m\u001b[1;33m\u001b[0m\u001b[1;33m\u001b[0m\u001b[0m\n",
      "\u001b[1;31mNameError\u001b[0m: name 'info' is not defined"
     ]
    }
   ],
   "source": [
    "# 8. Mostre qual o clube que contém, em média, os jogadores mais caros.\n",
    "\n",
    "# Fazer um replace de todos os valores indesejados da coluna \"Value\"\n",
    "Valor = info['Value'].apply(lambda x: str(x).replace('€','')).apply(lambda x: str(x).replace('M','000000')).apply(lambda x: str(x).replace('K','000'))\n",
    "\n",
    "# Transformar para df\n",
    "Valor.to_frame()\n",
    "\n",
    "# Merge entre as tabelas \"info\" e \"Valor\"\n",
    "df_merge = pd.merge(info, Valor, left_index=True, right_index=True, how='outer')\n",
    "\n",
    "# Transformar coluna \"Value_y\" para numeric\n",
    "df_merge['Value_y'] = pd.to_numeric(df_merge['Value_y'], errors='coerce')\n",
    "\n",
    "# Agrupar dataframe por Clube, definir a soma da tabela \"Value_y\" de modo decrescente\n",
    "soma = df_merge.groupby(['Club'])['Value_y'].sum().sort_values(ascending=False)\n",
    "\n",
    "club_cont = df_merge.value_counts('Club')\n",
    "\n",
    "x = merge_df.groupby(['Club'])['Penalties']"
   ]
  },
  {
   "cell_type": "code",
   "execution_count": 47,
   "metadata": {},
   "outputs": [
    {
     "data": {
      "application/vnd.plotly.v1+json": {
       "config": {
        "plotlyServerURL": "https://plot.ly"
       },
       "data": [
        {
         "name": "Messi",
         "r": [
          95,
          72,
          85,
          33,
          97,
          86,
          59,
          8,
          95
         ],
         "theta": [
          "Balance",
          "Stamina",
          "ShotPower",
          "Marking",
          "Dribbling",
          "SprintSpeed",
          "Strength",
          "GKReflexes",
          "Balance"
         ],
         "type": "scatterpolar"
        },
        {
         "name": "Sergio Ramos",
         "r": [
          66,
          84,
          79,
          87,
          63,
          75,
          83,
          11,
          66
         ],
         "theta": [
          "Balance",
          "Stamina",
          "ShotPower",
          "Marking",
          "Dribbling",
          "SprintSpeed",
          "Strength",
          "GKReflexes",
          "Balance"
         ],
         "type": "scatterpolar"
        },
        {
         "name": "De Gea",
         "r": [
          43,
          43,
          31,
          15,
          18,
          58,
          64,
          94,
          43
         ],
         "theta": [
          "Balance",
          "Stamina",
          "ShotPower",
          "Marking",
          "Dribbling",
          "SprintSpeed",
          "Strength",
          "GKReflexes",
          "Balance"
         ],
         "type": "scatterpolar"
        }
       ],
       "layout": {
        "polar": {
         "radialaxis": {
          "visible": true
         }
        },
        "showlegend": true,
        "template": {
         "data": {
          "bar": [
           {
            "error_x": {
             "color": "#2a3f5f"
            },
            "error_y": {
             "color": "#2a3f5f"
            },
            "marker": {
             "line": {
              "color": "#E5ECF6",
              "width": 0.5
             },
             "pattern": {
              "fillmode": "overlay",
              "size": 10,
              "solidity": 0.2
             }
            },
            "type": "bar"
           }
          ],
          "barpolar": [
           {
            "marker": {
             "line": {
              "color": "#E5ECF6",
              "width": 0.5
             },
             "pattern": {
              "fillmode": "overlay",
              "size": 10,
              "solidity": 0.2
             }
            },
            "type": "barpolar"
           }
          ],
          "carpet": [
           {
            "aaxis": {
             "endlinecolor": "#2a3f5f",
             "gridcolor": "white",
             "linecolor": "white",
             "minorgridcolor": "white",
             "startlinecolor": "#2a3f5f"
            },
            "baxis": {
             "endlinecolor": "#2a3f5f",
             "gridcolor": "white",
             "linecolor": "white",
             "minorgridcolor": "white",
             "startlinecolor": "#2a3f5f"
            },
            "type": "carpet"
           }
          ],
          "choropleth": [
           {
            "colorbar": {
             "outlinewidth": 0,
             "ticks": ""
            },
            "type": "choropleth"
           }
          ],
          "contour": [
           {
            "colorbar": {
             "outlinewidth": 0,
             "ticks": ""
            },
            "colorscale": [
             [
              0,
              "#0d0887"
             ],
             [
              0.1111111111111111,
              "#46039f"
             ],
             [
              0.2222222222222222,
              "#7201a8"
             ],
             [
              0.3333333333333333,
              "#9c179e"
             ],
             [
              0.4444444444444444,
              "#bd3786"
             ],
             [
              0.5555555555555556,
              "#d8576b"
             ],
             [
              0.6666666666666666,
              "#ed7953"
             ],
             [
              0.7777777777777778,
              "#fb9f3a"
             ],
             [
              0.8888888888888888,
              "#fdca26"
             ],
             [
              1,
              "#f0f921"
             ]
            ],
            "type": "contour"
           }
          ],
          "contourcarpet": [
           {
            "colorbar": {
             "outlinewidth": 0,
             "ticks": ""
            },
            "type": "contourcarpet"
           }
          ],
          "heatmap": [
           {
            "colorbar": {
             "outlinewidth": 0,
             "ticks": ""
            },
            "colorscale": [
             [
              0,
              "#0d0887"
             ],
             [
              0.1111111111111111,
              "#46039f"
             ],
             [
              0.2222222222222222,
              "#7201a8"
             ],
             [
              0.3333333333333333,
              "#9c179e"
             ],
             [
              0.4444444444444444,
              "#bd3786"
             ],
             [
              0.5555555555555556,
              "#d8576b"
             ],
             [
              0.6666666666666666,
              "#ed7953"
             ],
             [
              0.7777777777777778,
              "#fb9f3a"
             ],
             [
              0.8888888888888888,
              "#fdca26"
             ],
             [
              1,
              "#f0f921"
             ]
            ],
            "type": "heatmap"
           }
          ],
          "heatmapgl": [
           {
            "colorbar": {
             "outlinewidth": 0,
             "ticks": ""
            },
            "colorscale": [
             [
              0,
              "#0d0887"
             ],
             [
              0.1111111111111111,
              "#46039f"
             ],
             [
              0.2222222222222222,
              "#7201a8"
             ],
             [
              0.3333333333333333,
              "#9c179e"
             ],
             [
              0.4444444444444444,
              "#bd3786"
             ],
             [
              0.5555555555555556,
              "#d8576b"
             ],
             [
              0.6666666666666666,
              "#ed7953"
             ],
             [
              0.7777777777777778,
              "#fb9f3a"
             ],
             [
              0.8888888888888888,
              "#fdca26"
             ],
             [
              1,
              "#f0f921"
             ]
            ],
            "type": "heatmapgl"
           }
          ],
          "histogram": [
           {
            "marker": {
             "pattern": {
              "fillmode": "overlay",
              "size": 10,
              "solidity": 0.2
             }
            },
            "type": "histogram"
           }
          ],
          "histogram2d": [
           {
            "colorbar": {
             "outlinewidth": 0,
             "ticks": ""
            },
            "colorscale": [
             [
              0,
              "#0d0887"
             ],
             [
              0.1111111111111111,
              "#46039f"
             ],
             [
              0.2222222222222222,
              "#7201a8"
             ],
             [
              0.3333333333333333,
              "#9c179e"
             ],
             [
              0.4444444444444444,
              "#bd3786"
             ],
             [
              0.5555555555555556,
              "#d8576b"
             ],
             [
              0.6666666666666666,
              "#ed7953"
             ],
             [
              0.7777777777777778,
              "#fb9f3a"
             ],
             [
              0.8888888888888888,
              "#fdca26"
             ],
             [
              1,
              "#f0f921"
             ]
            ],
            "type": "histogram2d"
           }
          ],
          "histogram2dcontour": [
           {
            "colorbar": {
             "outlinewidth": 0,
             "ticks": ""
            },
            "colorscale": [
             [
              0,
              "#0d0887"
             ],
             [
              0.1111111111111111,
              "#46039f"
             ],
             [
              0.2222222222222222,
              "#7201a8"
             ],
             [
              0.3333333333333333,
              "#9c179e"
             ],
             [
              0.4444444444444444,
              "#bd3786"
             ],
             [
              0.5555555555555556,
              "#d8576b"
             ],
             [
              0.6666666666666666,
              "#ed7953"
             ],
             [
              0.7777777777777778,
              "#fb9f3a"
             ],
             [
              0.8888888888888888,
              "#fdca26"
             ],
             [
              1,
              "#f0f921"
             ]
            ],
            "type": "histogram2dcontour"
           }
          ],
          "mesh3d": [
           {
            "colorbar": {
             "outlinewidth": 0,
             "ticks": ""
            },
            "type": "mesh3d"
           }
          ],
          "parcoords": [
           {
            "line": {
             "colorbar": {
              "outlinewidth": 0,
              "ticks": ""
             }
            },
            "type": "parcoords"
           }
          ],
          "pie": [
           {
            "automargin": true,
            "type": "pie"
           }
          ],
          "scatter": [
           {
            "marker": {
             "colorbar": {
              "outlinewidth": 0,
              "ticks": ""
             }
            },
            "type": "scatter"
           }
          ],
          "scatter3d": [
           {
            "line": {
             "colorbar": {
              "outlinewidth": 0,
              "ticks": ""
             }
            },
            "marker": {
             "colorbar": {
              "outlinewidth": 0,
              "ticks": ""
             }
            },
            "type": "scatter3d"
           }
          ],
          "scattercarpet": [
           {
            "marker": {
             "colorbar": {
              "outlinewidth": 0,
              "ticks": ""
             }
            },
            "type": "scattercarpet"
           }
          ],
          "scattergeo": [
           {
            "marker": {
             "colorbar": {
              "outlinewidth": 0,
              "ticks": ""
             }
            },
            "type": "scattergeo"
           }
          ],
          "scattergl": [
           {
            "marker": {
             "colorbar": {
              "outlinewidth": 0,
              "ticks": ""
             }
            },
            "type": "scattergl"
           }
          ],
          "scattermapbox": [
           {
            "marker": {
             "colorbar": {
              "outlinewidth": 0,
              "ticks": ""
             }
            },
            "type": "scattermapbox"
           }
          ],
          "scatterpolar": [
           {
            "marker": {
             "colorbar": {
              "outlinewidth": 0,
              "ticks": ""
             }
            },
            "type": "scatterpolar"
           }
          ],
          "scatterpolargl": [
           {
            "marker": {
             "colorbar": {
              "outlinewidth": 0,
              "ticks": ""
             }
            },
            "type": "scatterpolargl"
           }
          ],
          "scatterternary": [
           {
            "marker": {
             "colorbar": {
              "outlinewidth": 0,
              "ticks": ""
             }
            },
            "type": "scatterternary"
           }
          ],
          "surface": [
           {
            "colorbar": {
             "outlinewidth": 0,
             "ticks": ""
            },
            "colorscale": [
             [
              0,
              "#0d0887"
             ],
             [
              0.1111111111111111,
              "#46039f"
             ],
             [
              0.2222222222222222,
              "#7201a8"
             ],
             [
              0.3333333333333333,
              "#9c179e"
             ],
             [
              0.4444444444444444,
              "#bd3786"
             ],
             [
              0.5555555555555556,
              "#d8576b"
             ],
             [
              0.6666666666666666,
              "#ed7953"
             ],
             [
              0.7777777777777778,
              "#fb9f3a"
             ],
             [
              0.8888888888888888,
              "#fdca26"
             ],
             [
              1,
              "#f0f921"
             ]
            ],
            "type": "surface"
           }
          ],
          "table": [
           {
            "cells": {
             "fill": {
              "color": "#EBF0F8"
             },
             "line": {
              "color": "white"
             }
            },
            "header": {
             "fill": {
              "color": "#C8D4E3"
             },
             "line": {
              "color": "white"
             }
            },
            "type": "table"
           }
          ]
         },
         "layout": {
          "annotationdefaults": {
           "arrowcolor": "#2a3f5f",
           "arrowhead": 0,
           "arrowwidth": 1
          },
          "autotypenumbers": "strict",
          "coloraxis": {
           "colorbar": {
            "outlinewidth": 0,
            "ticks": ""
           }
          },
          "colorscale": {
           "diverging": [
            [
             0,
             "#8e0152"
            ],
            [
             0.1,
             "#c51b7d"
            ],
            [
             0.2,
             "#de77ae"
            ],
            [
             0.3,
             "#f1b6da"
            ],
            [
             0.4,
             "#fde0ef"
            ],
            [
             0.5,
             "#f7f7f7"
            ],
            [
             0.6,
             "#e6f5d0"
            ],
            [
             0.7,
             "#b8e186"
            ],
            [
             0.8,
             "#7fbc41"
            ],
            [
             0.9,
             "#4d9221"
            ],
            [
             1,
             "#276419"
            ]
           ],
           "sequential": [
            [
             0,
             "#0d0887"
            ],
            [
             0.1111111111111111,
             "#46039f"
            ],
            [
             0.2222222222222222,
             "#7201a8"
            ],
            [
             0.3333333333333333,
             "#9c179e"
            ],
            [
             0.4444444444444444,
             "#bd3786"
            ],
            [
             0.5555555555555556,
             "#d8576b"
            ],
            [
             0.6666666666666666,
             "#ed7953"
            ],
            [
             0.7777777777777778,
             "#fb9f3a"
            ],
            [
             0.8888888888888888,
             "#fdca26"
            ],
            [
             1,
             "#f0f921"
            ]
           ],
           "sequentialminus": [
            [
             0,
             "#0d0887"
            ],
            [
             0.1111111111111111,
             "#46039f"
            ],
            [
             0.2222222222222222,
             "#7201a8"
            ],
            [
             0.3333333333333333,
             "#9c179e"
            ],
            [
             0.4444444444444444,
             "#bd3786"
            ],
            [
             0.5555555555555556,
             "#d8576b"
            ],
            [
             0.6666666666666666,
             "#ed7953"
            ],
            [
             0.7777777777777778,
             "#fb9f3a"
            ],
            [
             0.8888888888888888,
             "#fdca26"
            ],
            [
             1,
             "#f0f921"
            ]
           ]
          },
          "colorway": [
           "#636efa",
           "#EF553B",
           "#00cc96",
           "#ab63fa",
           "#FFA15A",
           "#19d3f3",
           "#FF6692",
           "#B6E880",
           "#FF97FF",
           "#FECB52"
          ],
          "font": {
           "color": "#2a3f5f"
          },
          "geo": {
           "bgcolor": "white",
           "lakecolor": "white",
           "landcolor": "#E5ECF6",
           "showlakes": true,
           "showland": true,
           "subunitcolor": "white"
          },
          "hoverlabel": {
           "align": "left"
          },
          "hovermode": "closest",
          "mapbox": {
           "style": "light"
          },
          "paper_bgcolor": "white",
          "plot_bgcolor": "#E5ECF6",
          "polar": {
           "angularaxis": {
            "gridcolor": "white",
            "linecolor": "white",
            "ticks": ""
           },
           "bgcolor": "#E5ECF6",
           "radialaxis": {
            "gridcolor": "white",
            "linecolor": "white",
            "ticks": ""
           }
          },
          "scene": {
           "xaxis": {
            "backgroundcolor": "#E5ECF6",
            "gridcolor": "white",
            "gridwidth": 2,
            "linecolor": "white",
            "showbackground": true,
            "ticks": "",
            "zerolinecolor": "white"
           },
           "yaxis": {
            "backgroundcolor": "#E5ECF6",
            "gridcolor": "white",
            "gridwidth": 2,
            "linecolor": "white",
            "showbackground": true,
            "ticks": "",
            "zerolinecolor": "white"
           },
           "zaxis": {
            "backgroundcolor": "#E5ECF6",
            "gridcolor": "white",
            "gridwidth": 2,
            "linecolor": "white",
            "showbackground": true,
            "ticks": "",
            "zerolinecolor": "white"
           }
          },
          "shapedefaults": {
           "line": {
            "color": "#2a3f5f"
           }
          },
          "ternary": {
           "aaxis": {
            "gridcolor": "white",
            "linecolor": "white",
            "ticks": ""
           },
           "baxis": {
            "gridcolor": "white",
            "linecolor": "white",
            "ticks": ""
           },
           "bgcolor": "#E5ECF6",
           "caxis": {
            "gridcolor": "white",
            "linecolor": "white",
            "ticks": ""
           }
          },
          "title": {
           "x": 0.05
          },
          "xaxis": {
           "automargin": true,
           "gridcolor": "white",
           "linecolor": "white",
           "ticks": "",
           "title": {
            "standoff": 15
           },
           "zerolinecolor": "white",
           "zerolinewidth": 2
          },
          "yaxis": {
           "automargin": true,
           "gridcolor": "white",
           "linecolor": "white",
           "ticks": "",
           "title": {
            "standoff": 15
           },
           "zerolinecolor": "white",
           "zerolinewidth": 2
          }
         }
        },
        "title": {
         "text": "Comparação entre Messi, Sergio Ramos e De Gea"
        }
       }
      }
     },
     "metadata": {},
     "output_type": "display_data"
    }
   ],
   "source": [
    "# 9. Faça um gráfico de radar dos Jogadores L. Messi, Sergio Ramos e De Gea. Utilize os atributos Balance, Stamina, ShotPower, Marking, Dribling, SprintSpeed, Strength, Slidin gTackle e \n",
    "# GKReflexes. Verifique o intervalo dos dados, talvez seja necessário normalizar. \n",
    "\n",
    "# Definir variável que recebe o status que foi pedido, de acordo com o nome do jogador(Lionel Messi)\n",
    "\n",
    "Balance = merge_df.loc[merge_df.Name == 'L. Messi', 'Balance'].min()\n",
    "\n",
    "Stamina = merge_df.loc[merge_df.Name == 'L. Messi', 'Stamina'].min()\n",
    "\n",
    "ShotPower = merge_df.loc[merge_df.Name == 'L. Messi', 'ShotPower'].min()\n",
    "\n",
    "Marking = merge_df.loc[merge_df.Name == 'L. Messi', 'Marking'].min()\n",
    "\n",
    "Dribbling = merge_df.loc[merge_df.Name == 'L. Messi', 'Dribbling'].min()\n",
    "\n",
    "SprintSpeed = merge_df.loc[merge_df.Name == 'L. Messi', 'SprintSpeed'].min()\n",
    "\n",
    "Strength = merge_df.loc[merge_df.Name == 'L. Messi', 'Strength'].min()\n",
    "\n",
    "GKReflexes = merge_df.loc[merge_df.Name == 'L. Messi', 'GKReflexes'].min()\n",
    "\n",
    "# Definir variável que recebe o status que foi pedido, de acordo com o nome do jogador(Sergio Ramos)\n",
    "\n",
    "Balance2 = merge_df.loc[merge_df.Name == 'Sergio Ramos', 'Balance'].min()\n",
    "\n",
    "Stamina2 = merge_df.loc[merge_df.Name == 'Sergio Ramos', 'Stamina'].min()\n",
    "\n",
    "ShotPower2 = merge_df.loc[merge_df.Name == 'Sergio Ramos', 'ShotPower'].min()\n",
    "\n",
    "Marking2 = merge_df.loc[merge_df.Name == 'Sergio Ramos', 'Marking'].min()\n",
    "\n",
    "Dribbling2 = merge_df.loc[merge_df.Name == 'Sergio Ramos', 'Dribbling'].min()\n",
    "\n",
    "SprintSpeed2 = merge_df.loc[merge_df.Name == 'Sergio Ramos', 'SprintSpeed'].min()\n",
    "\n",
    "Strength2 = merge_df.loc[merge_df.Name == 'Sergio Ramos', 'Strength'].min()\n",
    "\n",
    "GKReflexes2 = merge_df.loc[merge_df.Name == 'Sergio Ramos', 'GKReflexes'].min()\n",
    "\n",
    "# Definir variável que recebe o status que foi pedido, de acordo com o nome do jogador(De Gea)\n",
    "\n",
    "Balance3 = merge_df.loc[merge_df.Name == 'De Gea', 'Balance'].min()\n",
    "\n",
    "Stamina3 = merge_df.loc[merge_df.Name == 'De Gea', 'Stamina'].min()\n",
    "\n",
    "ShotPower3 = merge_df.loc[merge_df.Name == 'De Gea', 'ShotPower'].min()\n",
    "\n",
    "Marking3 = merge_df.loc[merge_df.Name == 'De Gea', 'Marking'].min()\n",
    "\n",
    "Dribbling3 = merge_df.loc[merge_df.Name == 'De Gea', 'Dribbling'].min()\n",
    "\n",
    "SprintSpeed3 = merge_df.loc[merge_df.Name == 'De Gea', 'SprintSpeed'].min()\n",
    "\n",
    "Strength3 = merge_df.loc[merge_df.Name == 'De Gea', 'Strength'].min()\n",
    "\n",
    "GKReflexes3 = merge_df.loc[merge_df.Name == 'De Gea', 'GKReflexes'].min()\n",
    "\n",
    "# Definir o nomes de cada categorias\n",
    "categories = ['Balance', 'Stamina', 'ShotPower', 'Marking', 'Dribbling', 'SprintSpeed', 'Strength', 'GKReflexes']\n",
    "\n",
    "categories = [*categories, categories[0]]\n",
    "\n",
    "# Definir os objetivos para a plotagem Scatter de acordo com cada jogador\n",
    "L_Messi = [Balance, Stamina, ShotPower, Marking, Dribbling, SprintSpeed, Strength, GKReflexes]\n",
    "\n",
    "Sergio_Ramos = [Balance2, Stamina2, ShotPower2, Marking2, Dribbling2, SprintSpeed2, Strength2, GKReflexes2]\n",
    "\n",
    "De_Gea = [Balance3, Stamina3, ShotPower3, Marking3, Dribbling3, SprintSpeed3, Strength3, GKReflexes3]\n",
    "\n",
    "L_Messi = [*L_Messi, L_Messi[0]]\n",
    "\n",
    "Sergio_Ramos = [*Sergio_Ramos, Sergio_Ramos[0]]\n",
    "\n",
    "De_Gea = [*De_Gea, De_Gea[0]]\n",
    "\n",
    "# Plotar o Polar Chart pela biblioteca 'graph_objects'\n",
    "\n",
    "fig = go.Figure(\n",
    "    data=[\n",
    "        go.Scatterpolar(r=L_Messi, theta=categories, name='Messi'),\n",
    "        go.Scatterpolar(r=Sergio_Ramos, theta=categories, name='Sergio Ramos'),\n",
    "        go.Scatterpolar(r=De_Gea, theta=categories, name='De Gea')\n",
    "    ],\n",
    "    layout=go.Layout(\n",
    "        title=go.layout.Title(text='Comparação entre Messi, Sergio Ramos e De Gea'),\n",
    "        polar={'radialaxis': {'visible': True}},\n",
    "        showlegend=True\n",
    "    )\n",
    ")\n",
    "\n",
    "fig.show() "
   ]
  }
 ],
 "metadata": {
  "interpreter": {
   "hash": "573a5c7e7f6b69a982819e50b3614ba2e70da23418480f96bebec1796dfd44fd"
  },
  "kernelspec": {
   "display_name": "Python 3.8.8 64-bit ('base': conda)",
   "name": "python3"
  },
  "language_info": {
   "codemirror_mode": {
    "name": "ipython",
    "version": 3
   },
   "file_extension": ".py",
   "mimetype": "text/x-python",
   "name": "python",
   "nbconvert_exporter": "python",
   "pygments_lexer": "ipython3",
   "version": "3.8.8"
  },
  "orig_nbformat": 4
 },
 "nbformat": 4,
 "nbformat_minor": 2
}
